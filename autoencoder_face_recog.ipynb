{
 "cells": [
  {
   "cell_type": "code",
   "execution_count": 1,
   "metadata": {},
   "outputs": [],
   "source": [
    "import numpy as np\n",
    "import tensorflow as tf\n",
    "import matplotlib.pyplot as plt\n",
    "\n",
    "from tensorflow.keras import layers\n",
    "from tensorflow.keras.datasets import mnist\n",
    "from tensorflow.keras.models import Model"
   ]
  },
  {
   "cell_type": "code",
   "execution_count": 2,
   "metadata": {},
   "outputs": [],
   "source": [
    "from keras.models import Sequential\n",
    "from keras.layers import Conv2D, MaxPooling2D, Dense, Flatten, Dropout\n",
    "from keras.preprocessing.image import ImageDataGenerator"
   ]
  },
  {
   "cell_type": "code",
   "execution_count": 3,
   "metadata": {},
   "outputs": [],
   "source": [
    "src_path_train = \"out_faces\"\n",
    "src_path_test = \"test_set_a\"\n",
    "src_path_anomaly = \"anomaly_test\"\n",
    "\n",
    "train_datagen = ImageDataGenerator(\n",
    "        rescale=1 / 255.0,\n",
    "        # rotation_range=20,\n",
    "        # zoom_range=0.05,\n",
    "        # width_shift_range=0.05,\n",
    "        # height_shift_range=0.05,\n",
    "        # shear_range=0.05,\n",
    "        # horizontal_flip=True,\n",
    "        # fill_mode=\"nearest\",\n",
    "        validation_split=0.20)\n",
    "\n",
    "test_datagen = ImageDataGenerator(rescale=1 / 255.0)"
   ]
  },
  {
   "cell_type": "code",
   "execution_count": 4,
   "metadata": {},
   "outputs": [
    {
     "name": "stdout",
     "output_type": "stream",
     "text": [
      "Found 386 images belonging to 1 classes.\n",
      "Found 96 images belonging to 1 classes.\n",
      "Found 17 images belonging to 1 classes.\n",
      "Found 17 images belonging to 1 classes.\n"
     ]
    }
   ],
   "source": [
    "batch_size = 8\n",
    "train_generator = train_datagen.flow_from_directory(\n",
    "    directory=src_path_train,\n",
    "    target_size=(100, 100),\n",
    "    color_mode=\"grayscale\",\n",
    "    batch_size=batch_size,\n",
    "    class_mode='input',\n",
    "    subset='training',\n",
    "    shuffle=True,\n",
    "    seed=42\n",
    ")\n",
    "valid_generator = train_datagen.flow_from_directory(\n",
    "    directory=src_path_train,\n",
    "    target_size=(100, 100),\n",
    "    color_mode=\"grayscale\",\n",
    "    batch_size=batch_size,\n",
    "    class_mode='input',\n",
    "    subset='validation',\n",
    "    shuffle=True,\n",
    "    seed=42\n",
    ")\n",
    "test_generator = test_datagen.flow_from_directory(\n",
    "    directory=src_path_test,\n",
    "    target_size=(100, 100),\n",
    "    color_mode=\"grayscale\",\n",
    "    batch_size=1,\n",
    "    class_mode='input',\n",
    "    shuffle=False,\n",
    "    seed=42\n",
    ")\n",
    "\n",
    "anomaly_test_generator = test_datagen.flow_from_directory(\n",
    "    directory=src_path_anomaly,\n",
    "    target_size=(100, 100),\n",
    "    color_mode=\"grayscale\",\n",
    "    batch_size=1,\n",
    "    class_mode='input',\n",
    "    shuffle=False,\n",
    "    seed=42\n",
    ")"
   ]
  },
  {
   "cell_type": "code",
   "execution_count": 5,
   "metadata": {},
   "outputs": [
    {
     "name": "stdout",
     "output_type": "stream",
     "text": [
      "Model: \"model\"\n",
      "_________________________________________________________________\n",
      " Layer (type)                Output Shape              Param #   \n",
      "=================================================================\n",
      " input_1 (InputLayer)        [(None, 100, 100, 1)]     0         \n",
      "                                                                 \n",
      " conv2d (Conv2D)             (None, 100, 100, 64)      640       \n",
      "                                                                 \n",
      " max_pooling2d (MaxPooling2D  (None, 50, 50, 64)       0         \n",
      " )                                                               \n",
      "                                                                 \n",
      " conv2d_transpose (Conv2DTra  (None, 100, 100, 64)     36928     \n",
      " nspose)                                                         \n",
      "                                                                 \n",
      " conv2d_1 (Conv2D)           (None, 100, 100, 1)       577       \n",
      "                                                                 \n",
      "=================================================================\n",
      "Total params: 38,145\n",
      "Trainable params: 38,145\n",
      "Non-trainable params: 0\n",
      "_________________________________________________________________\n"
     ]
    }
   ],
   "source": [
    "input = layers.Input(shape=(100, 100, 1))\n",
    "\n",
    "# Encoder\n",
    "e = layers.Conv2D(64, (3, 3), activation=\"relu\", padding=\"same\")(input)\n",
    "e = layers.MaxPooling2D((2, 2), padding=\"same\")(e)\n",
    "# x = layers.Conv2D(32, (3, 3), activation=\"relu\", padding=\"same\")(x)\n",
    "# x = layers.MaxPooling2D((2, 2), padding=\"same\")(x)\n",
    "\n",
    "# Decoder\n",
    "# x = layers.Conv2DTranspose(32, (3, 3), strides=2, activation=\"relu\", padding=\"same\")(x)\n",
    "d = layers.Conv2DTranspose(64, (3, 3), strides=2, activation=\"relu\", padding=\"same\")(e)\n",
    "d = layers.Conv2D(1, (3, 3), activation=\"sigmoid\", padding=\"same\")(d)\n",
    "\n",
    "# Autoencoder\n",
    "autoencoder = Model(input, d)\n",
    "autoencoder.compile(optimizer=\"adam\", loss=\"mse\")\n",
    "autoencoder.summary()\n",
    "\n",
    "model_encoder = Model(input, e)\n",
    "\n",
    "# # ENCODER\n",
    "# input_img = layers.Input(shape=(100, 100, 1))\n",
    "# encode1 = layers.Conv2D(32, (3, 3), activation='relu', padding='same')(input_img) \n",
    "# encode2 = layers.MaxPooling2D((2, 2), padding='same')(encode1)\n",
    "# l = layers.Flatten()(encode2)\n",
    "# encoder_output = layers.Dense(100, activation='linear')(l)\n",
    "\n",
    "# # DECODER\n",
    "# d = layers.Dense(1024, activation='linear')(encoder_output) \n",
    "# d = layers.Reshape((32,32,1))(d)\n",
    "# decode3 = layers.Conv2DTranspose(32, (3, 3), strides=2, activation=\"relu\", padding=\"same\")(d) \n",
    "# decode4 = layers.UpSampling2D((2, 2))(decode3)\n",
    "\n",
    "# model_encoder = Model(input_img, encoder_output)\n",
    "# model = Model(input_img, decode4)\n",
    "# model.compile(optimizer=\"adam\", loss=\"mse\")\n",
    "\n",
    "# model.summary()"
   ]
  },
  {
   "cell_type": "code",
   "execution_count": 6,
   "metadata": {},
   "outputs": [
    {
     "name": "stdout",
     "output_type": "stream",
     "text": [
      "Epoch 1/60\n",
      "48/48 [==============================] - 20s 60ms/step - loss: 0.0214 - val_loss: 0.0037\n",
      "Epoch 2/60\n",
      "48/48 [==============================] - 1s 18ms/step - loss: 0.0022 - val_loss: 0.0017\n",
      "Epoch 3/60\n",
      "48/48 [==============================] - 1s 18ms/step - loss: 0.0016 - val_loss: 0.0015\n",
      "Epoch 4/60\n",
      "48/48 [==============================] - 1s 17ms/step - loss: 0.0014 - val_loss: 0.0013\n",
      "Epoch 5/60\n",
      "48/48 [==============================] - 1s 16ms/step - loss: 0.0012 - val_loss: 0.0011\n",
      "Epoch 6/60\n",
      "48/48 [==============================] - 1s 16ms/step - loss: 0.0011 - val_loss: 0.0010\n",
      "Epoch 7/60\n",
      "48/48 [==============================] - 1s 16ms/step - loss: 9.5423e-04 - val_loss: 9.1090e-04\n",
      "Epoch 8/60\n",
      "48/48 [==============================] - 1s 17ms/step - loss: 8.7767e-04 - val_loss: 8.3447e-04\n",
      "Epoch 9/60\n",
      "48/48 [==============================] - 1s 20ms/step - loss: 8.1839e-04 - val_loss: 7.7947e-04\n",
      "Epoch 10/60\n",
      "48/48 [==============================] - 1s 17ms/step - loss: 7.5771e-04 - val_loss: 7.4929e-04\n",
      "Epoch 11/60\n",
      "48/48 [==============================] - 1s 15ms/step - loss: 7.2102e-04 - val_loss: 6.7140e-04\n",
      "Epoch 12/60\n",
      "48/48 [==============================] - 1s 15ms/step - loss: 6.7540e-04 - val_loss: 6.4001e-04\n",
      "Epoch 13/60\n",
      "48/48 [==============================] - 1s 14ms/step - loss: 6.3792e-04 - val_loss: 6.2038e-04\n",
      "Epoch 14/60\n",
      "48/48 [==============================] - 1s 15ms/step - loss: 6.0541e-04 - val_loss: 6.5923e-04\n",
      "Epoch 15/60\n",
      "48/48 [==============================] - 1s 16ms/step - loss: 5.7660e-04 - val_loss: 5.5076e-04\n",
      "Epoch 16/60\n",
      "48/48 [==============================] - 1s 15ms/step - loss: 5.5372e-04 - val_loss: 5.4047e-04\n",
      "Epoch 17/60\n",
      "48/48 [==============================] - 1s 15ms/step - loss: 5.2551e-04 - val_loss: 5.2344e-04\n",
      "Epoch 18/60\n",
      "48/48 [==============================] - 1s 15ms/step - loss: 5.1812e-04 - val_loss: 4.8554e-04\n",
      "Epoch 19/60\n",
      "48/48 [==============================] - 1s 14ms/step - loss: 4.8221e-04 - val_loss: 4.7007e-04\n",
      "Epoch 20/60\n",
      "48/48 [==============================] - 1s 17ms/step - loss: 4.8598e-04 - val_loss: 4.5181e-04\n",
      "Epoch 21/60\n",
      "48/48 [==============================] - 1s 16ms/step - loss: 4.5626e-04 - val_loss: 4.4729e-04\n",
      "Epoch 22/60\n",
      "48/48 [==============================] - 1s 15ms/step - loss: 4.3200e-04 - val_loss: 4.2159e-04\n",
      "Epoch 23/60\n",
      "48/48 [==============================] - 1s 14ms/step - loss: 4.2442e-04 - val_loss: 4.0642e-04\n",
      "Epoch 24/60\n",
      "48/48 [==============================] - 1s 14ms/step - loss: 4.0866e-04 - val_loss: 4.2686e-04\n",
      "Epoch 25/60\n",
      "48/48 [==============================] - 1s 14ms/step - loss: 4.1429e-04 - val_loss: 4.0122e-04\n",
      "Epoch 26/60\n",
      "48/48 [==============================] - 1s 15ms/step - loss: 3.9052e-04 - val_loss: 3.8563e-04\n",
      "Epoch 27/60\n",
      "48/48 [==============================] - 1s 14ms/step - loss: 3.8019e-04 - val_loss: 3.8724e-04\n",
      "Epoch 28/60\n",
      "48/48 [==============================] - 1s 15ms/step - loss: 3.7154e-04 - val_loss: 3.7198e-04\n",
      "Epoch 29/60\n",
      "48/48 [==============================] - 1s 14ms/step - loss: 3.6284e-04 - val_loss: 4.2340e-04\n",
      "Epoch 30/60\n",
      "48/48 [==============================] - 1s 14ms/step - loss: 3.5948e-04 - val_loss: 3.4507e-04\n",
      "Epoch 31/60\n",
      "48/48 [==============================] - 1s 15ms/step - loss: 3.4209e-04 - val_loss: 3.3253e-04\n",
      "Epoch 32/60\n",
      "48/48 [==============================] - 1s 14ms/step - loss: 3.4386e-04 - val_loss: 3.3354e-04\n",
      "Epoch 33/60\n",
      "48/48 [==============================] - 1s 15ms/step - loss: 3.3244e-04 - val_loss: 3.1947e-04\n",
      "Epoch 34/60\n",
      "48/48 [==============================] - 1s 14ms/step - loss: 3.3226e-04 - val_loss: 3.2082e-04\n",
      "Epoch 35/60\n",
      "48/48 [==============================] - 1s 15ms/step - loss: 3.1686e-04 - val_loss: 3.2959e-04\n",
      "Epoch 36/60\n",
      "48/48 [==============================] - 1s 15ms/step - loss: 3.1519e-04 - val_loss: 2.9506e-04\n",
      "Epoch 37/60\n",
      "48/48 [==============================] - 1s 14ms/step - loss: 3.0857e-04 - val_loss: 2.9908e-04\n",
      "Epoch 38/60\n",
      "48/48 [==============================] - 1s 15ms/step - loss: 3.1527e-04 - val_loss: 3.0855e-04\n",
      "Epoch 39/60\n",
      "48/48 [==============================] - 1s 14ms/step - loss: 2.9180e-04 - val_loss: 2.9094e-04\n",
      "Epoch 40/60\n",
      "48/48 [==============================] - 1s 15ms/step - loss: 2.8949e-04 - val_loss: 2.8574e-04\n",
      "Epoch 41/60\n",
      "48/48 [==============================] - 1s 14ms/step - loss: 2.8832e-04 - val_loss: 2.7835e-04\n",
      "Epoch 42/60\n",
      "48/48 [==============================] - 1s 15ms/step - loss: 2.8361e-04 - val_loss: 2.7234e-04\n",
      "Epoch 43/60\n",
      "48/48 [==============================] - 1s 15ms/step - loss: 2.7228e-04 - val_loss: 2.7031e-04\n",
      "Epoch 44/60\n",
      "48/48 [==============================] - 1s 14ms/step - loss: 2.7607e-04 - val_loss: 2.5690e-04\n",
      "Epoch 45/60\n",
      "48/48 [==============================] - 1s 16ms/step - loss: 2.6801e-04 - val_loss: 2.5784e-04\n",
      "Epoch 46/60\n",
      "48/48 [==============================] - 1s 15ms/step - loss: 2.6098e-04 - val_loss: 2.5683e-04\n",
      "Epoch 47/60\n",
      "48/48 [==============================] - 1s 14ms/step - loss: 2.6551e-04 - val_loss: 2.7933e-04\n",
      "Epoch 48/60\n",
      "48/48 [==============================] - 1s 15ms/step - loss: 2.5232e-04 - val_loss: 2.4907e-04\n",
      "Epoch 49/60\n",
      "48/48 [==============================] - 1s 14ms/step - loss: 2.5567e-04 - val_loss: 2.4991e-04\n",
      "Epoch 50/60\n",
      "48/48 [==============================] - 1s 14ms/step - loss: 2.4950e-04 - val_loss: 2.8329e-04\n",
      "Epoch 51/60\n",
      "48/48 [==============================] - 1s 15ms/step - loss: 2.4243e-04 - val_loss: 2.6759e-04\n",
      "Epoch 52/60\n",
      "48/48 [==============================] - 1s 15ms/step - loss: 2.4292e-04 - val_loss: 2.3826e-04\n",
      "Epoch 53/60\n",
      "48/48 [==============================] - 1s 16ms/step - loss: 2.4837e-04 - val_loss: 2.4075e-04\n",
      "Epoch 54/60\n",
      "48/48 [==============================] - 1s 14ms/step - loss: 2.2984e-04 - val_loss: 2.2874e-04\n",
      "Epoch 55/60\n",
      "48/48 [==============================] - 1s 15ms/step - loss: 2.3657e-04 - val_loss: 2.2041e-04\n",
      "Epoch 56/60\n",
      "48/48 [==============================] - 1s 14ms/step - loss: 2.2419e-04 - val_loss: 2.1349e-04\n",
      "Epoch 57/60\n",
      "48/48 [==============================] - 1s 15ms/step - loss: 2.2650e-04 - val_loss: 3.0077e-04\n",
      "Epoch 58/60\n",
      "48/48 [==============================] - 1s 16ms/step - loss: 2.3179e-04 - val_loss: 2.1299e-04\n",
      "Epoch 59/60\n",
      "48/48 [==============================] - 1s 14ms/step - loss: 2.1572e-04 - val_loss: 2.1131e-04\n",
      "Epoch 60/60\n",
      "48/48 [==============================] - 1s 15ms/step - loss: 2.1427e-04 - val_loss: 2.0505e-04\n"
     ]
    }
   ],
   "source": [
    "history = autoencoder.fit(train_generator,\n",
    "                    validation_data = train_generator,\n",
    "                    steps_per_epoch = train_generator.n//train_generator.batch_size,\n",
    "                    validation_steps = valid_generator.n//valid_generator.batch_size,\n",
    "                    epochs=60, verbose=1)"
   ]
  },
  {
   "cell_type": "code",
   "execution_count": 7,
   "metadata": {},
   "outputs": [
    {
     "data": {
      "image/png": "[encoded data removed]",
      "text/plain": [
       "<Figure size 640x480 with 1 Axes>"
      ]
     },
     "metadata": {},
     "output_type": "display_data"
    }
   ],
   "source": [
    "from matplotlib import pyplot as plt\n",
    "plt.plot(history.history['loss'])\n",
    "plt.plot(history.history['val_loss'])\n",
    "plt.title('model loss')\n",
    "plt.ylabel('loss')\n",
    "plt.xlabel('epoch')\n",
    "plt.legend(['train', 'val'], loc='upper left')\n",
    "plt.show()"
   ]
  },
  {
   "cell_type": "code",
   "execution_count": 8,
   "metadata": {},
   "outputs": [
    {
     "name": "stdout",
     "output_type": "stream",
     "text": [
      "17/17 [==============================] - 0s 7ms/step - loss: 2.0156e-04\n"
     ]
    },
    {
     "data": {
      "text/plain": [
       "0.00020155607489868999"
      ]
     },
     "execution_count": 8,
     "metadata": {},
     "output_type": "execute_result"
    }
   ],
   "source": [
    "autoencoder.evaluate(anomaly_test_generator)"
   ]
  },
  {
   "cell_type": "code",
   "execution_count": 9,
   "metadata": {},
   "outputs": [
    {
     "name": "stdout",
     "output_type": "stream",
     "text": [
      "17/17 [==============================] - 0s 6ms/step - loss: 1.9540e-04\n"
     ]
    },
    {
     "data": {
      "text/plain": [
       "0.0001953955797944218"
      ]
     },
     "execution_count": 9,
     "metadata": {},
     "output_type": "execute_result"
    }
   ],
   "source": [
    "autoencoder.evaluate(test_generator)"
   ]
  },
  {
   "cell_type": "code",
   "execution_count": 60,
   "metadata": {},
   "outputs": [],
   "source": [
    "model = Sequential()\n",
    "model.add(model_encoder)\n",
    "model.add(Flatten())\n",
    "model.add(Dense(units=64, activation='linear'))\n",
    "# model.add(Dropout(0.5))\n",
    "# model.add(Dense(units=64, activation='relu'))\n",
    "# model.add(Dropout(0.5))\n",
    "# model.add(Dense(units=64, activation='linear'))"
   ]
  },
  {
   "cell_type": "code",
   "execution_count": 61,
   "metadata": {},
   "outputs": [
    {
     "name": "stdout",
     "output_type": "stream",
     "text": [
      "Model: \"sequential_7\"\n",
      "_________________________________________________________________\n",
      " Layer (type)                Output Shape              Param #   \n",
      "=================================================================\n",
      " model_1 (Functional)        (None, 50, 50, 64)        640       \n",
      "                                                                 \n",
      " flatten_6 (Flatten)         (None, 160000)            0         \n",
      "                                                                 \n",
      " dense_16 (Dense)            (None, 64)                10240064  \n",
      "                                                                 \n",
      "=================================================================\n",
      "Total params: 10,240,704\n",
      "Trainable params: 10,240,704\n",
      "Non-trainable params: 0\n",
      "_________________________________________________________________\n"
     ]
    }
   ],
   "source": [
    "model.summary()"
   ]
  },
  {
   "cell_type": "code",
   "execution_count": 62,
   "metadata": {},
   "outputs": [
    {
     "name": "stdout",
     "output_type": "stream",
     "text": [
      "17/17 [==============================] - 0s 6ms/step\n",
      "17/17 [==============================] - 0s 3ms/step\n"
     ]
    }
   ],
   "source": [
    "# out_arr = autoencoder.predict(anomaly_test_generator)\n",
    "out_arr_1 = model.predict(test_generator)\n",
    "out_arr_2 = model.predict(anomaly_test_generator)"
   ]
  },
  {
   "cell_type": "code",
   "execution_count": 65,
   "metadata": {},
   "outputs": [
    {
     "data": {
      "text/plain": [
       "<matplotlib.image.AxesImage at 0x1f2a535c550>"
      ]
     },
     "execution_count": 65,
     "metadata": {},
     "output_type": "execute_result"
    },
    {
     "data": {
      "image/png": "[encoded data removed]",
      "text/plain": [
       "<Figure size 640x480 with 1 Axes>"
      ]
     },
     "metadata": {},
     "output_type": "display_data"
    }
   ],
   "source": [
    "plt.imshow(out_arr_1[0].reshape((8,8)))"
   ]
  },
  {
   "cell_type": "code",
   "execution_count": 66,
   "metadata": {},
   "outputs": [
    {
     "data": {
      "text/plain": [
       "<matplotlib.image.AxesImage at 0x1f2a660b250>"
      ]
     },
     "execution_count": 66,
     "metadata": {},
     "output_type": "execute_result"
    },
    {
     "data": {
      "image/png": "[encoded data removed]",
      "text/plain": [
       "<Figure size 640x480 with 1 Axes>"
      ]
     },
     "metadata": {},
     "output_type": "display_data"
    }
   ],
   "source": [
    "plt.imshow(out_arr_2[0].reshape((8,8)))"
   ]
  },
  {
   "cell_type": "code",
   "execution_count": 67,
   "metadata": {},
   "outputs": [
    {
     "data": {
      "text/plain": [
       "<matplotlib.image.AxesImage at 0x1f2a6699960>"
      ]
     },
     "execution_count": 67,
     "metadata": {},
     "output_type": "execute_result"
    },
    {
     "data": {
      "image/png": "[encoded data removed]",
      "text/plain": [
       "<Figure size 640x480 with 1 Axes>"
      ]
     },
     "metadata": {},
     "output_type": "display_data"
    }
   ],
   "source": [
    "plt.imshow(out_arr_1[3].reshape((8,8)))"
   ]
  },
  {
   "cell_type": "code",
   "execution_count": 43,
   "metadata": {},
   "outputs": [],
   "source": [
    "from skimage.metrics import structural_similarity"
   ]
  },
  {
   "cell_type": "code",
   "execution_count": 81,
   "metadata": {},
   "outputs": [
    {
     "name": "stdout",
     "output_type": "stream",
     "text": [
      "Image similarity 0.9740149825811386\n",
      "Image similarity 0.9949075430631638\n",
      "Image similarity 0.9836607277393341\n",
      "Image similarity 0.9803892374038696\n",
      "Image similarity 0.992521271109581\n",
      "Image similarity 1.0\n",
      "Image similarity 0.9861661195755005\n",
      "Image similarity 0.9996190369129181\n",
      "Image similarity 0.9869229644536972\n",
      "Image similarity 0.9785231798887253\n",
      "Image similarity 0.9729500561952591\n",
      "Image similarity 0.9711406081914902\n",
      "Image similarity 0.9903357177972794\n",
      "Image similarity 0.981996476650238\n",
      "Image similarity 0.9816646873950958\n",
      "Image similarity 0.9889619499444962\n",
      "Image similarity 0.9943212121725082\n",
      "\n",
      " 0.9857703394749585\n"
     ]
    }
   ],
   "source": [
    "avg = 0\n",
    "for i in range(len(out_arr_1)):\n",
    "    (score, diff) = structural_similarity(out_arr_1[i].reshape((8,8)), out_arr_1[5].reshape((8,8)), full=True)\n",
    "    print(\"Image similarity\", score)\n",
    "    avg = avg + score\n",
    "print(\"\\n\", avg/len(out_arr_1))"
   ]
  },
  {
   "cell_type": "code",
   "execution_count": 82,
   "metadata": {},
   "outputs": [
    {
     "name": "stdout",
     "output_type": "stream",
     "text": [
      "Image similarity 0.4027279280126095\n",
      "Image similarity 0.4460940957069397\n",
      "Image similarity 0.605927363038063\n",
      "Image similarity 0.6395994871854782\n",
      "Image similarity 0.6317580416798592\n",
      "Image similarity 0.6258254051208496\n",
      "Image similarity 0.6194453835487366\n",
      "Image similarity 0.5942107513546944\n",
      "Image similarity 0.5562343522906303\n",
      "Image similarity 0.6043534874916077\n",
      "Image similarity 0.625752829015255\n",
      "Image similarity 0.6182826831936836\n",
      "Image similarity 0.6082706302404404\n",
      "Image similarity 0.6099814027547836\n",
      "Image similarity 0.6246191933751106\n",
      "Image similarity 0.6169254779815674\n",
      "Image similarity 0.6761603057384491\n",
      "\n",
      " 0.5944805186899269\n"
     ]
    }
   ],
   "source": [
    "avg = 0\n",
    "for i in range(len(out_arr_1)):\n",
    "    (score, diff) = structural_similarity(out_arr_2[i].reshape((8,8)), out_arr_1[5].reshape((8,8)), full=True)\n",
    "    print(\"Image similarity\", score)\n",
    "    avg = avg + score\n",
    "print(\"\\n\", avg/len(out_arr_1))"
   ]
  },
  {
   "cell_type": "code",
   "execution_count": null,
   "metadata": {},
   "outputs": [],
   "source": []
  }
 ],
 "metadata": {
  "kernelspec": {
   "display_name": "Python 3.10.0 ('tf')",
   "language": "python",
   "name": "python3"
  },
  "language_info": {
   "codemirror_mode": {
    "name": "ipython",
    "version": 3
   },
   "file_extension": ".py",
   "mimetype": "text/x-python",
   "name": "python",
   "nbconvert_exporter": "python",
   "pygments_lexer": "ipython3",
   "version": "3.10.0"
  },
  "orig_nbformat": 4,
  "vscode": {
   "interpreter": {
    "hash": "cbc59299d2ef61f825f02686d0901dc51aae6fa14013db0a976e69a0c7bf9ccf"
   }
  }
 },
 "nbformat": 4,
 "nbformat_minor": 2
}
