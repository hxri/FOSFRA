{
 "cells": [
  {
   "cell_type": "code",
   "execution_count": 1,
   "metadata": {},
   "outputs": [],
   "source": [
    "import cv2\n",
    "import numpy as np\n",
    "import matplotlib.pyplot as plt\n",
    "# from scipy.ndimage import gaussian_filter1d\n",
    "from tqdm import trange"
   ]
  },
  {
   "cell_type": "code",
   "execution_count": 2,
   "metadata": {},
   "outputs": [
    {
     "name": "stderr",
     "output_type": "stream",
     "text": [
      "100%|██████████| 946/946 [00:16<00:00, 56.61it/s]\n"
     ]
    }
   ],
   "source": [
    "data = cv2.VideoCapture(\"sample_b.mp4\")\n",
    "length = int(data.get(cv2.CAP_PROP_FRAME_COUNT))\n",
    "face_cascade = cv2.CascadeClassifier('faces.xml')\n",
    "eye_cascade = cv2.CascadeClassifier('eyes.xml')\n",
    "\n",
    "faces_arr = []\n",
    "\n",
    "for i in trange(length):\n",
    "    _, frame = data.read()\n",
    "    height = frame.shape[0]\n",
    "    width = frame.shape[1]\n",
    "    size = height * width\n",
    "\n",
    "    if size > (500^2):\n",
    "        r = 500.0 / frame.shape[1]\n",
    "        dim = (500, int(frame.shape[0] * r))\n",
    "        frame2 = cv2.resize(frame, dim, interpolation = cv2.INTER_AREA)\n",
    "        frame = frame2\n",
    "\n",
    "    gray = cv2.cvtColor(frame, cv2.COLOR_BGR2GRAY)\n",
    "    faces = face_cascade.detectMultiScale(gray, 1.3, 5)\n",
    "    faces_arr.append(faces)\n",
    "    \n",
    "    eyesn = 0\n",
    "\n",
    "    for (x,y,w,h) in faces:\n",
    "        imgCrop = frame[y:y+h,x:x+w]\n",
    "        #cv2.rectangle(frame,(x,y),(x+w,y+h),(255,0,0),2)\n",
    "        roi_gray = gray[y:y+h, x:x+w]\n",
    "        roi_color = frame[y:y+h, x:x+w]\n",
    "\n",
    "        eyes = eye_cascade.detectMultiScale(roi_gray)\n",
    "        for (ex,ey,ew,eh) in eyes:\n",
    "            #cv2.rectangle(roi_color,(ex,ey),(ex+ew,ey+eh),(0,255,0),2)\n",
    "            eyesn = eyesn +1\n",
    "        if eyesn >= 2:\n",
    "            cv2.imwrite(\"out_faces_2/\"+str(i)+\".jpg\", imgCrop)\n",
    "\n",
    "    # cv2.imshow('img',imgCrop)\n",
    "    # print(\"Image\"+str(i)+\" has been processed and cropped\")"
   ]
  },
  {
   "cell_type": "code",
   "execution_count": null,
   "metadata": {},
   "outputs": [],
   "source": []
  }
 ],
 "metadata": {
  "kernelspec": {
   "display_name": "Python 3.10.0 ('tf')",
   "language": "python",
   "name": "python3"
  },
  "language_info": {
   "codemirror_mode": {
    "name": "ipython",
    "version": 3
   },
   "file_extension": ".py",
   "mimetype": "text/x-python",
   "name": "python",
   "nbconvert_exporter": "python",
   "pygments_lexer": "ipython3",
   "version": "3.10.0"
  },
  "orig_nbformat": 4,
  "vscode": {
   "interpreter": {
    "hash": "cbc59299d2ef61f825f02686d0901dc51aae6fa14013db0a976e69a0c7bf9ccf"
   }
  }
 },
 "nbformat": 4,
 "nbformat_minor": 2
}
